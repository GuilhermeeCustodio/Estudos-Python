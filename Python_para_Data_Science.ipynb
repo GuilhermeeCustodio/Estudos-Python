{
  "nbformat": 4,
  "nbformat_minor": 0,
  "metadata": {
    "colab": {
      "provenance": [],
      "authorship_tag": "ABX9TyMpXtW9HCoAk8bbEYIGvjOS",
      "include_colab_link": true
    },
    "kernelspec": {
      "name": "python3",
      "display_name": "Python 3"
    },
    "language_info": {
      "name": "python"
    }
  },
  "cells": [
    {
      "cell_type": "markdown",
      "metadata": {
        "id": "view-in-github",
        "colab_type": "text"
      },
      "source": [
        "<a href=\"https://colab.research.google.com/github/GuilhermeeCustodio/Estudos-Python/blob/main/Python_para_Data_Science.ipynb\" target=\"_parent\"><img src=\"https://colab.research.google.com/assets/colab-badge.svg\" alt=\"Open In Colab\"/></a>"
      ]
    },
    {
      "cell_type": "markdown",
      "source": [
        "## **Lógica de programação com Python**"
      ],
      "metadata": {
        "id": "D4YvLyFIEIPA"
      }
    },
    {
      "cell_type": "code",
      "source": [
        "nome = input(\"Digite aqui o seu nome: \")\n",
        "idade = input(\"Digite aqui a sua idade: \")\n",
        "\n",
        "print(f\"O nome é {nome} e a sua idade é {idade} anos!\")"
      ],
      "metadata": {
        "colab": {
          "base_uri": "https://localhost:8080/"
        },
        "id": "1Fzh2cNTFh-d",
        "outputId": "d5379661-dc8a-4993-9878-f03b18647b16"
      },
      "execution_count": 12,
      "outputs": [
        {
          "output_type": "stream",
          "name": "stdout",
          "text": [
            "Digite aqui o seu nome: Rose\n",
            "Digite aqui a sua idade: 47\n",
            "O nome é Rose e a sua idade é 47 anos!\n"
          ]
        }
      ]
    },
    {
      "cell_type": "markdown",
      "source": [
        "## **Criando minha primeira função**"
      ],
      "metadata": {
        "id": "OdH_pXuBHMkM"
      }
    },
    {
      "cell_type": "code",
      "source": [
        "def saudacao():\n",
        "   nome = input(\"Qual é o seu nome? \")\n",
        "   print(f\"Olá {nome}\")"
      ],
      "metadata": {
        "id": "ERmzRoI1Hk0M"
      },
      "execution_count": 15,
      "outputs": []
    },
    {
      "cell_type": "code",
      "source": [
        "saudacao()"
      ],
      "metadata": {
        "colab": {
          "base_uri": "https://localhost:8080/"
        },
        "id": "yICnminSIm2u",
        "outputId": "742f36c5-5daa-42e0-d707-de081037fa18"
      },
      "execution_count": 16,
      "outputs": [
        {
          "output_type": "stream",
          "name": "stdout",
          "text": [
            "Qual é o seu nome? Guilherme\n",
            "Olá Guilherme\n"
          ]
        }
      ]
    },
    {
      "cell_type": "code",
      "source": [],
      "metadata": {
        "id": "60eVkwTTIsmc"
      },
      "execution_count": null,
      "outputs": []
    },
    {
      "cell_type": "markdown",
      "source": [
        "# **Função com parâmetro**"
      ],
      "metadata": {
        "id": "6QmFPEjjSCGH"
      }
    },
    {
      "cell_type": "code",
      "source": [
        "nome = 'Guilherme'"
      ],
      "metadata": {
        "id": "1q7JO4ytSHwv"
      },
      "execution_count": 31,
      "outputs": []
    },
    {
      "cell_type": "markdown",
      "source": [
        "# **Condicionais**"
      ],
      "metadata": {
        "id": "wO7VVYnLV6l3"
      }
    },
    {
      "cell_type": "code",
      "source": [
        "idade = 18\n",
        "\n",
        "def verifica_se_pode_dirigir(idade):\n",
        "  if idade >= 18:\n",
        "    print(\"Tem permissão para dirigir!\")\n",
        "\n",
        "  else:\n",
        "    print(\"Não tem permissão para dirigir!\")\n",
        "\n",
        "verifica_se_pode_dirigir(idade)"
      ],
      "metadata": {
        "colab": {
          "base_uri": "https://localhost:8080/"
        },
        "id": "RzWCGejbV_7m",
        "outputId": "7f39ca96-6652-4b0f-f119-347c7da1f105"
      },
      "execution_count": 57,
      "outputs": [
        {
          "output_type": "stream",
          "name": "stdout",
          "text": [
            "Tem permissão para dirigir!\n"
          ]
        }
      ]
    },
    {
      "cell_type": "markdown",
      "source": [
        "# **Conversão de tipo para inteiro**"
      ],
      "metadata": {
        "id": "rrltFjUjZZ0h"
      }
    },
    {
      "cell_type": "code",
      "source": [
        "def verifica_se_pode_dirigir_sem_parametros():\n",
        "  idade =(input(\"Digite a sua idade: \"))\n",
        "  idade = int(idade)\n",
        "\n",
        "  if idade >= 18:\n",
        "      print(\"Tem permissão para dirigir!\")\n",
        "  else:\n",
        "      print(\"Não tem permissão para dirigir!\")\n",
        "\n",
        "verifica_se_pode_dirigir_sem_parametros()"
      ],
      "metadata": {
        "colab": {
          "base_uri": "https://localhost:8080/"
        },
        "id": "6NKuEuZiXfNo",
        "outputId": "cbe2aa7b-b703-4d16-b2b3-84b15dfd3ae3"
      },
      "execution_count": 59,
      "outputs": [
        {
          "output_type": "stream",
          "name": "stdout",
          "text": [
            "Digite a sua idade: 17\n",
            "Não tem permissão para dirigir!\n"
          ]
        }
      ]
    },
    {
      "cell_type": "markdown",
      "source": [
        "# **Criando uma lista**"
      ],
      "metadata": {
        "id": "f4Avgn0rJ3bU"
      }
    },
    {
      "cell_type": "code",
      "source": [
        "idades = [18, 22, 15, 50]\n",
        "type(lista)"
      ],
      "metadata": {
        "colab": {
          "base_uri": "https://localhost:8080/"
        },
        "id": "y_5A9enVKDiS",
        "outputId": "2aa977e8-2706-4d19-dc1a-5ac6a23416ba"
      },
      "execution_count": 14,
      "outputs": [
        {
          "output_type": "execute_result",
          "data": {
            "text/plain": [
              "list"
            ]
          },
          "metadata": {},
          "execution_count": 14
        }
      ]
    },
    {
      "cell_type": "code",
      "source": [
        "idades[3] # indicando o indice 3 dentro da lista"
      ],
      "metadata": {
        "colab": {
          "base_uri": "https://localhost:8080/"
        },
        "id": "Epc-e4LUCgDT",
        "outputId": "7838af97-7ff3-4728-ff1a-99ff757fba6b"
      },
      "execution_count": 15,
      "outputs": [
        {
          "output_type": "execute_result",
          "data": {
            "text/plain": [
              "50"
            ]
          },
          "metadata": {},
          "execution_count": 15
        }
      ]
    },
    {
      "cell_type": "code",
      "source": [
        "idades[0:3] # Coloca um delimitador de indice, aqui está indo do 87 até o 2"
      ],
      "metadata": {
        "colab": {
          "base_uri": "https://localhost:8080/"
        },
        "id": "Ji9L0JF-DENp",
        "outputId": "ec28d1ec-7b7a-4dca-afe4-225a91919ac6"
      },
      "execution_count": 16,
      "outputs": [
        {
          "output_type": "execute_result",
          "data": {
            "text/plain": [
              "[18, 22, 15]"
            ]
          },
          "metadata": {},
          "execution_count": 16
        }
      ]
    },
    {
      "cell_type": "code",
      "source": [],
      "metadata": {
        "id": "0XhcrXEcDKhC"
      },
      "execution_count": null,
      "outputs": []
    },
    {
      "cell_type": "markdown",
      "source": [
        "# **Laços e Loops**"
      ],
      "metadata": {
        "id": "50tBwO9YDvt2"
      }
    },
    {
      "cell_type": "code",
      "source": [
        "idades"
      ],
      "metadata": {
        "colab": {
          "base_uri": "https://localhost:8080/"
        },
        "id": "xjuG7D06DzAv",
        "outputId": "08f857b1-ba8a-49ea-dd0c-b413671d2b15"
      },
      "execution_count": 30,
      "outputs": [
        {
          "output_type": "execute_result",
          "data": {
            "text/plain": [
              "50"
            ]
          },
          "metadata": {},
          "execution_count": 30
        }
      ]
    },
    {
      "cell_type": "code",
      "source": [
        "def verifica_se_pode_dirigir(idades):\n",
        "  for idades in idades:\n",
        "    if idades >= 18:\n",
        "      print(f\"{idades} anos de idade, tem permissão para dirigir!\")\n",
        "    else:\n",
        "      print(f\"{idades} anos de idade, não tem permissão para dirigir!\")\n",
        "\n",
        "  verifica_se_pode_dirigir(idades)"
      ],
      "metadata": {
        "id": "pDebY20RGpiQ"
      },
      "execution_count": 32,
      "outputs": []
    },
    {
      "cell_type": "markdown",
      "source": [
        "# **Tipos em uma lista**"
      ],
      "metadata": {
        "id": "OysiudEYIkRY"
      }
    },
    {
      "cell_type": "code",
      "source": [
        "#@title\n",
        "lista = [\"Guilherme\", 28, True, \"18\" ]\n",
        "\n",
        "for elemento in lista:\n",
        "  print(f\"O elemento {elemento} é do tipo: \", type(elemento))"
      ],
      "metadata": {
        "colab": {
          "base_uri": "https://localhost:8080/"
        },
        "cellView": "form",
        "id": "Femjgr0kIo3v",
        "outputId": "61e36edb-7477-42bf-c0b7-ac67764885ae"
      },
      "execution_count": 33,
      "outputs": [
        {
          "output_type": "stream",
          "name": "stdout",
          "text": [
            "O elemento Guilherme é do tipo:  <class 'str'>\n",
            "O elemento 28 é do tipo:  <class 'int'>\n",
            "O elemento True é do tipo:  <class 'bool'>\n",
            "O elemento 18 é do tipo:  <class 'str'>\n"
          ]
        }
      ]
    },
    {
      "cell_type": "markdown",
      "source": [
        "# **IMPORTS**"
      ],
      "metadata": {
        "id": "2t1Lb0sW0WyM"
      }
    },
    {
      "cell_type": "code",
      "source": [],
      "metadata": {
        "id": "L5AdgDdB0boo"
      },
      "execution_count": null,
      "outputs": []
    }
  ]
}